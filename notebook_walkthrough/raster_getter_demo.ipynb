{
 "cells": [
  {
   "cell_type": "code",
   "execution_count": 3,
   "source": [
    "import os, sys\n",
    "\n",
    "\n",
    "sys.path.append(os.path.abspath(os.path.join('../lidardataextractor')))"
   ],
   "outputs": [],
   "metadata": {}
  },
  {
   "cell_type": "code",
   "execution_count": 4,
   "source": [
    "from get_data import RasterGetter \n",
    "\n",
    "BOUNDS = \"([-10425171.940, -10423171.940], [5164494.710, 5166494.710])\"\n",
    "epsg = 3857\n",
    "\n",
    "raster_getter = RasterGetter(BOUNDS, epsg)\n",
    "\n",
    "dir(raster_getter)"
   ],
   "outputs": [
    {
     "output_type": "stream",
     "name": "stderr",
     "text": [
      "2021-08-24 22:06:12,878 : INFO  : Found credentials in shared credentials file: ~/.aws/credentials\n",
      "2021-08-24 22:06:13,837 : INFO  : NumExpr defaulting to 8 threads.\n",
      "2021-08-24 22:06:16,542 : INFO  :  Finding bounds region\n",
      "2021-08-24 22:06:16,545 : INFO  : loading the ept.json files from usgs-lidar-public\n",
      "2021-08-24 22:06:16,546 : INFO  : fetching folders in usgs-lidar-public\n",
      "2021-08-24 22:06:46,135 : INFO  : Pipeline Succefully Constructed\n"
     ]
    },
    {
     "output_type": "execute_result",
     "data": {
      "text/plain": [
       "['__class__',\n",
       " '__delattr__',\n",
       " '__dict__',\n",
       " '__dir__',\n",
       " '__doc__',\n",
       " '__eq__',\n",
       " '__format__',\n",
       " '__ge__',\n",
       " '__getattribute__',\n",
       " '__gt__',\n",
       " '__hash__',\n",
       " '__init__',\n",
       " '__init_subclass__',\n",
       " '__le__',\n",
       " '__lt__',\n",
       " '__module__',\n",
       " '__ne__',\n",
       " '__new__',\n",
       " '__reduce__',\n",
       " '__reduce_ex__',\n",
       " '__repr__',\n",
       " '__setattr__',\n",
       " '__sizeof__',\n",
       " '__str__',\n",
       " '__subclasshook__',\n",
       " '__weakref__',\n",
       " 'bounds',\n",
       " 'construct_pipeline',\n",
       " 'crs',\n",
       " 'dynamic_pipeline',\n",
       " 'external_pipeline',\n",
       " 'get_geodataframe',\n",
       " 'get_point_elevation_twi',\n",
       " 'get_raster_terrain',\n",
       " 'get_regions',\n",
       " 'load_pipeline',\n",
       " 'public_data_path',\n",
       " 'regions',\n",
       " 'reproject_crs',\n",
       " 'save_geodataframe',\n",
       " 'tif_shp',\n",
       " 'year_gpd_dict']"
      ]
     },
     "metadata": {},
     "execution_count": 4
    }
   ],
   "metadata": {}
  },
  {
   "cell_type": "code",
   "execution_count": 5,
   "source": [
    "raster_getter.bounds"
   ],
   "outputs": [
    {
     "output_type": "execute_result",
     "data": {
      "text/plain": [
       "'([-10425171.940, -10423171.940], [5164494.710, 5166494.710])'"
      ]
     },
     "metadata": {},
     "execution_count": 5
    }
   ],
   "metadata": {}
  },
  {
   "cell_type": "code",
   "execution_count": 7,
   "source": [
    "# get a raster terrain based on the region that has been passed in our case IA_FullState is the region\n",
    "\n",
    "# the get_raster_terrain function manipulate the pipeline that was constructed by initializing the GetRaster class.\n",
    "# it saves a laz and tif file by constructing and loading a pdal pipeline and execute it \n",
    "\n",
    "# the function does not return any variable/value but saves the tif and laz file in the current working directory\n",
    "\n",
    "raster_getter.get_raster_terrain(region='IA_FullState/')"
   ],
   "outputs": [
    {
     "output_type": "stream",
     "name": "stderr",
     "text": [
      "2021-08-24 21:48:44,050 : INFO  : Fetching Laz and tiff files for IA_FullState/\n",
      "2021-08-24 21:48:44,054 : INFO  : Pipeline Dumped and Ready for use\n",
      "2021-08-24 21:49:34,748 : INFO  : Pipeline Complete Execution Succefully \n"
     ]
    }
   ],
   "metadata": {}
  },
  {
   "cell_type": "code",
   "execution_count": 8,
   "source": [
    "# the get_geodataframe function calls the get_point_elevation_twi which computes and saves a geodataframe csv file\n",
    "# just before it returns the geodataframe it calls the tif_shp function that help to convert a tif file to a shp file\n",
    "# the shp file can be further visualized using the visualizer class module\n",
    "\n",
    "raster_getter.get_geodataframe(tif_file='IA_FullState.tif', region='IA_FullState/')"
   ],
   "outputs": [
    {
     "output_type": "stream",
     "name": "stderr",
     "text": [
      "2021-08-24 21:55:26,338 : INFO  : reading tif file...\n",
      "2021-08-24 21:55:26,340 : INFO  : creating shapefile...\n",
      "2021-08-24 21:55:42,548 : INFO  : Shp file created successfully here IA_FullState.shp\n",
      "2021-08-24 21:56:19,353 : INFO  : Shp file read successfully\n",
      "/home/Abuton/.local/lib/python3.9/site-packages/pandas/core/arraylike.py:364: RuntimeWarning: invalid value encountered in log\n",
      "  result = getattr(ufunc, method)(*inputs, **kwargs)\n",
      "2021-08-24 21:56:52,352 : INFO  : Point Elevation csv File saved here IA_FullState.csv\n"
     ]
    }
   ],
   "metadata": {}
  },
  {
   "cell_type": "code",
   "execution_count": 5,
   "source": [
    "# the reproject_crs function will take 2 arguments df: a pandas csv file that can be generated from the get_geodataframe function.\n",
    "# the function reproject_crs helps to reproject our csv to another epsg value, this time we use the 4378 epsg value\n",
    "\n",
    "import pandas as pd\n",
    "df = pd.read_csv('IA_FullState.csv')\n",
    "raster_getter.reproject_crs(df, region='IA_FullState/')"
   ],
   "outputs": [
    {
     "output_type": "stream",
     "name": "stderr",
     "text": [
      "2021-08-24 22:08:11,612 : INFO  : file saved succesfully here IA_FullState\n"
     ]
    }
   ],
   "metadata": {}
  },
  {
   "cell_type": "markdown",
   "source": [
    "# Thank You"
   ],
   "metadata": {}
  },
  {
   "cell_type": "code",
   "execution_count": null,
   "source": [],
   "outputs": [],
   "metadata": {}
  }
 ],
 "metadata": {
  "orig_nbformat": 4,
  "language_info": {
   "name": "python",
   "version": "3.9.6",
   "mimetype": "text/x-python",
   "codemirror_mode": {
    "name": "ipython",
    "version": 3
   },
   "pygments_lexer": "ipython3",
   "nbconvert_exporter": "python",
   "file_extension": ".py"
  },
  "kernelspec": {
   "name": "python3",
   "display_name": "Python 3.9.6 64-bit ('pdal_env': conda)"
  },
  "interpreter": {
   "hash": "36185415a3b4b6cd502554488739f0beedd803001167c58983969cce8848c03e"
  }
 },
 "nbformat": 4,
 "nbformat_minor": 2
}