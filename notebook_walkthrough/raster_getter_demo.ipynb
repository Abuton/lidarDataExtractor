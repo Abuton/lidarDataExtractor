{
 "cells": [
  {
   "cell_type": "code",
   "execution_count": 1,
   "source": [
    "import os, sys\n",
    "\n",
    "\n",
    "sys.path.append(os.path.abspath(os.path.join('../')))"
   ],
   "outputs": [],
   "metadata": {}
  },
  {
   "cell_type": "code",
   "execution_count": 2,
   "source": [
    "from lidardataextractor.get_data import RasterGetter \n",
    "\n",
    "BOUNDS = \"([-10425171.940, -10423171.940], [5164494.710, 5166494.710])\"\n",
    "epsg = 3857\n",
    "\n",
    "raster_getter = RasterGetter(BOUNDS, epsg)\n",
    "\n",
    "dir(raster_getter)"
   ],
   "outputs": [
    {
     "output_type": "error",
     "ename": "ModuleNotFoundError",
     "evalue": "No module named 'lidardataextractor'",
     "traceback": [
      "\u001b[0;31m---------------------------------------------------------------------------\u001b[0m",
      "\u001b[0;31mModuleNotFoundError\u001b[0m                       Traceback (most recent call last)",
      "\u001b[0;32m/tmp/ipykernel_161308/1216874544.py\u001b[0m in \u001b[0;36m<module>\u001b[0;34m\u001b[0m\n\u001b[0;32m----> 1\u001b[0;31m \u001b[0;32mfrom\u001b[0m \u001b[0mget_data\u001b[0m \u001b[0;32mimport\u001b[0m \u001b[0mRasterGetter\u001b[0m\u001b[0;34m\u001b[0m\u001b[0;34m\u001b[0m\u001b[0m\n\u001b[0m\u001b[1;32m      2\u001b[0m \u001b[0;34m\u001b[0m\u001b[0m\n\u001b[1;32m      3\u001b[0m \u001b[0mBOUNDS\u001b[0m \u001b[0;34m=\u001b[0m \u001b[0;34m\"([-10425171.940, -10423171.940], [5164494.710, 5166494.710])\"\u001b[0m\u001b[0;34m\u001b[0m\u001b[0;34m\u001b[0m\u001b[0m\n\u001b[1;32m      4\u001b[0m \u001b[0mepsg\u001b[0m \u001b[0;34m=\u001b[0m \u001b[0;36m3857\u001b[0m\u001b[0;34m\u001b[0m\u001b[0;34m\u001b[0m\u001b[0m\n\u001b[1;32m      5\u001b[0m \u001b[0;34m\u001b[0m\u001b[0m\n",
      "\u001b[0;32m~/Desktop/ML_PATH/week0/lidarDataExtractor/lidardataextractor/get_data.py\u001b[0m in \u001b[0;36m<module>\u001b[0;34m\u001b[0m\n\u001b[1;32m      2\u001b[0m \u001b[0;32mimport\u001b[0m \u001b[0mpdal\u001b[0m\u001b[0;34m\u001b[0m\u001b[0;34m\u001b[0m\u001b[0m\n\u001b[1;32m      3\u001b[0m \u001b[0;32mimport\u001b[0m \u001b[0mjson\u001b[0m\u001b[0;34m\u001b[0m\u001b[0;34m\u001b[0m\u001b[0m\n\u001b[0;32m----> 4\u001b[0;31m \u001b[0;32mfrom\u001b[0m \u001b[0mlidardataextractor\u001b[0m \u001b[0;32mimport\u001b[0m \u001b[0mregion_file_loader\u001b[0m\u001b[0;34m\u001b[0m\u001b[0;34m\u001b[0m\u001b[0m\n\u001b[0m\u001b[1;32m      5\u001b[0m \u001b[0;32mimport\u001b[0m \u001b[0mlogging\u001b[0m\u001b[0;34m\u001b[0m\u001b[0;34m\u001b[0m\u001b[0m\n\u001b[1;32m      6\u001b[0m \u001b[0;32mimport\u001b[0m \u001b[0mgeopandas\u001b[0m \u001b[0;32mas\u001b[0m \u001b[0mgpd\u001b[0m\u001b[0;34m\u001b[0m\u001b[0;34m\u001b[0m\u001b[0m\n",
      "\u001b[0;31mModuleNotFoundError\u001b[0m: No module named 'lidardataextractor'"
     ]
    }
   ],
   "metadata": {}
  },
  {
   "cell_type": "code",
   "execution_count": 5,
   "source": [
    "raster_getter.bounds"
   ],
   "outputs": [
    {
     "output_type": "execute_result",
     "data": {
      "text/plain": [
       "'([-10425171.940, -10423171.940], [5164494.710, 5166494.710])'"
      ]
     },
     "metadata": {},
     "execution_count": 5
    }
   ],
   "metadata": {}
  },
  {
   "cell_type": "code",
   "execution_count": 7,
   "source": [
    "# get a raster terrain based on the region that has been passed in our case IA_FullState is the region\n",
    "\n",
    "# the get_raster_terrain function manipulate the pipeline that was constructed by initializing the GetRaster class.\n",
    "# it saves a laz and tif file by constructing and loading a pdal pipeline and execute it \n",
    "\n",
    "# the function does not return any variable/value but saves the tif and laz file in the current working directory\n",
    "\n",
    "raster_getter.get_raster_terrain(region='IA_FullState/')"
   ],
   "outputs": [
    {
     "output_type": "stream",
     "name": "stderr",
     "text": [
      "2021-08-24 21:48:44,050 : INFO  : Fetching Laz and tiff files for IA_FullState/\n",
      "2021-08-24 21:48:44,054 : INFO  : Pipeline Dumped and Ready for use\n",
      "2021-08-24 21:49:34,748 : INFO  : Pipeline Complete Execution Succefully \n"
     ]
    }
   ],
   "metadata": {}
  },
  {
   "cell_type": "code",
   "execution_count": 8,
   "source": [
    "# the get_geodataframe function calls the get_point_elevation_twi which computes and saves a geodataframe csv file\n",
    "# just before it returns the geodataframe it calls the tif_shp function that help to convert a tif file to a shp file\n",
    "# the shp file can be further visualized using the visualizer class module\n",
    "\n",
    "raster_getter.get_geodataframe(tif_file='IA_FullState.tif', region='IA_FullState/')"
   ],
   "outputs": [
    {
     "output_type": "stream",
     "name": "stderr",
     "text": [
      "2021-08-24 21:55:26,338 : INFO  : reading tif file...\n",
      "2021-08-24 21:55:26,340 : INFO  : creating shapefile...\n",
      "2021-08-24 21:55:42,548 : INFO  : Shp file created successfully here IA_FullState.shp\n",
      "2021-08-24 21:56:19,353 : INFO  : Shp file read successfully\n",
      "/home/Abuton/.local/lib/python3.9/site-packages/pandas/core/arraylike.py:364: RuntimeWarning: invalid value encountered in log\n",
      "  result = getattr(ufunc, method)(*inputs, **kwargs)\n",
      "2021-08-24 21:56:52,352 : INFO  : Point Elevation csv File saved here IA_FullState.csv\n"
     ]
    }
   ],
   "metadata": {}
  },
  {
   "cell_type": "code",
   "execution_count": 5,
   "source": [
    "# the reproject_crs function will take 2 arguments df: a pandas csv file that can be generated from the get_geodataframe function.\n",
    "# the function reproject_crs helps to reproject our csv to another epsg value, this time we use the 4378 epsg value\n",
    "\n",
    "import pandas as pd\n",
    "df = pd.read_csv('IA_FullState.csv')\n",
    "raster_getter.reproject_crs(df, region='IA_FullState/')"
   ],
   "outputs": [
    {
     "output_type": "stream",
     "name": "stderr",
     "text": [
      "2021-08-24 22:08:11,612 : INFO  : file saved succesfully here IA_FullState\n"
     ]
    }
   ],
   "metadata": {}
  },
  {
   "cell_type": "markdown",
   "source": [
    "# Thank You"
   ],
   "metadata": {}
  },
  {
   "cell_type": "code",
   "execution_count": null,
   "source": [],
   "outputs": [],
   "metadata": {}
  }
 ],
 "metadata": {
  "orig_nbformat": 4,
  "language_info": {
   "name": "python",
   "version": "3.9.6",
   "mimetype": "text/x-python",
   "codemirror_mode": {
    "name": "ipython",
    "version": 3
   },
   "pygments_lexer": "ipython3",
   "nbconvert_exporter": "python",
   "file_extension": ".py"
  },
  "kernelspec": {
   "name": "python3",
   "display_name": "Python 3.9.6 64-bit ('pdal_env': conda)"
  },
  "interpreter": {
   "hash": "36185415a3b4b6cd502554488739f0beedd803001167c58983969cce8848c03e"
  }
 },
 "nbformat": 4,
 "nbformat_minor": 2
}